{
 "cells": [
  {
   "cell_type": "code",
   "execution_count": 1,
   "metadata": {},
   "outputs": [],
   "source": [
    "import pandas as pd\n",
    "import tensorflow as tf"
   ]
  },
  {
   "cell_type": "code",
   "execution_count": 2,
   "metadata": {},
   "outputs": [
    {
     "name": "stderr",
     "output_type": "stream",
     "text": [
      "Using TensorFlow backend.\n"
     ]
    }
   ],
   "source": [
    "from keras.preprocessing.image import ImageDataGenerator"
   ]
  },
  {
   "cell_type": "code",
   "execution_count": 3,
   "metadata": {},
   "outputs": [
    {
     "name": "stdout",
     "output_type": "stream",
     "text": [
      "Found 253 images belonging to 2 classes.\n"
     ]
    }
   ],
   "source": [
    "train_datagen = ImageDataGenerator(\n",
    "        rescale=1./255,\n",
    "        shear_range=0.2,\n",
    "        zoom_range=0.2,\n",
    "        horizontal_flip=True)\n",
    "train_generator = train_datagen.flow_from_directory(\n",
    "        'D:\\MRI\\\\brain_tumor_dataset',\n",
    "        target_size=(64, 64),\n",
    "        batch_size=10,\n",
    "        class_mode='binary')"
   ]
  },
  {
   "cell_type": "code",
   "execution_count": 4,
   "metadata": {},
   "outputs": [],
   "source": [
    "cnn = tf.keras.models.Sequential()"
   ]
  },
  {
   "cell_type": "code",
   "execution_count": 5,
   "metadata": {},
   "outputs": [],
   "source": [
    "cnn.add(tf.keras.layers.Conv2D(filters=32, kernel_size=5,activation='relu',input_shape=[64,64,3]))"
   ]
  },
  {
   "cell_type": "code",
   "execution_count": 6,
   "metadata": {},
   "outputs": [],
   "source": [
    "cnn.add(tf.keras.layers.MaxPool2D(pool_size=4, strides=2))"
   ]
  },
  {
   "cell_type": "code",
   "execution_count": 7,
   "metadata": {},
   "outputs": [],
   "source": [
    "cnn.add(tf.keras.layers.Conv2D(filters=64, kernel_size=5,activation='relu'))\n",
    "cnn.add(tf.keras.layers.MaxPool2D(pool_size=4, strides=2))"
   ]
  },
  {
   "cell_type": "code",
   "execution_count": 8,
   "metadata": {},
   "outputs": [],
   "source": [
    "cnn.add(tf.keras.layers.Flatten())"
   ]
  },
  {
   "cell_type": "code",
   "execution_count": 9,
   "metadata": {},
   "outputs": [],
   "source": [
    "cnn.add(tf.keras.layers.Dense(units=64,activation='relu'))"
   ]
  },
  {
   "cell_type": "code",
   "execution_count": 10,
   "metadata": {},
   "outputs": [],
   "source": [
    "cnn.add(tf.keras.layers.Dropout(0.3))"
   ]
  },
  {
   "cell_type": "code",
   "execution_count": 11,
   "metadata": {},
   "outputs": [],
   "source": [
    "cnn.add(tf.keras.layers.Dense(units=32,activation='relu'))"
   ]
  },
  {
   "cell_type": "code",
   "execution_count": 12,
   "metadata": {},
   "outputs": [],
   "source": [
    "cnn.add(tf.keras.layers.Dense(units=1,activation='sigmoid'))"
   ]
  },
  {
   "cell_type": "code",
   "execution_count": 13,
   "metadata": {},
   "outputs": [],
   "source": [
    "cnn.compile(optimizer='adam', loss='binary_crossentropy',metrics=['accuracy'])"
   ]
  },
  {
   "cell_type": "code",
   "execution_count": 14,
   "metadata": {},
   "outputs": [
    {
     "name": "stdout",
     "output_type": "stream",
     "text": [
      "Model: \"sequential\"\n",
      "_________________________________________________________________\n",
      "Layer (type)                 Output Shape              Param #   \n",
      "=================================================================\n",
      "conv2d (Conv2D)              (None, 60, 60, 32)        2432      \n",
      "_________________________________________________________________\n",
      "max_pooling2d (MaxPooling2D) (None, 29, 29, 32)        0         \n",
      "_________________________________________________________________\n",
      "conv2d_1 (Conv2D)            (None, 25, 25, 64)        51264     \n",
      "_________________________________________________________________\n",
      "max_pooling2d_1 (MaxPooling2 (None, 11, 11, 64)        0         \n",
      "_________________________________________________________________\n",
      "flatten (Flatten)            (None, 7744)              0         \n",
      "_________________________________________________________________\n",
      "dense (Dense)                (None, 64)                495680    \n",
      "_________________________________________________________________\n",
      "dropout (Dropout)            (None, 64)                0         \n",
      "_________________________________________________________________\n",
      "dense_1 (Dense)              (None, 32)                2080      \n",
      "_________________________________________________________________\n",
      "dense_2 (Dense)              (None, 1)                 33        \n",
      "=================================================================\n",
      "Total params: 551,489\n",
      "Trainable params: 551,489\n",
      "Non-trainable params: 0\n",
      "_________________________________________________________________\n"
     ]
    }
   ],
   "source": [
    "cnn.summary()"
   ]
  },
  {
   "cell_type": "code",
   "execution_count": 15,
   "metadata": {},
   "outputs": [
    {
     "name": "stdout",
     "output_type": "stream",
     "text": [
      "WARNING:tensorflow:sample_weight modes were coerced from\n",
      "  ...\n",
      "    to  \n",
      "  ['...']\n",
      "Train for 26 steps\n",
      "Epoch 1/50\n",
      "26/26 [==============================] - 3s 134ms/step - loss: 0.6993 - accuracy: 0.5771\n",
      "Epoch 2/50\n",
      "26/26 [==============================] - 3s 109ms/step - loss: 0.5793 - accuracy: 0.7115\n",
      "Epoch 3/50\n",
      "26/26 [==============================] - 3s 104ms/step - loss: 0.5972 - accuracy: 0.6917\n",
      "Epoch 4/50\n",
      "26/26 [==============================] - 3s 110ms/step - loss: 0.6125 - accuracy: 0.7194\n",
      "Epoch 5/50\n",
      "26/26 [==============================] - 3s 114ms/step - loss: 0.5630 - accuracy: 0.7194\n",
      "Epoch 6/50\n",
      "26/26 [==============================] - 3s 107ms/step - loss: 0.5750 - accuracy: 0.7075\n",
      "Epoch 7/50\n",
      "26/26 [==============================] - 3s 101ms/step - loss: 0.5801 - accuracy: 0.7115\n",
      "Epoch 8/50\n",
      "26/26 [==============================] - 3s 105ms/step - loss: 0.4880 - accuracy: 0.7668\n",
      "Epoch 9/50\n",
      "26/26 [==============================] - 3s 104ms/step - loss: 0.4928 - accuracy: 0.7589\n",
      "Epoch 10/50\n",
      "26/26 [==============================] - 3s 105ms/step - loss: 0.5092 - accuracy: 0.7747\n",
      "Epoch 11/50\n",
      "26/26 [==============================] - 3s 108ms/step - loss: 0.4814 - accuracy: 0.8024\n",
      "Epoch 12/50\n",
      "26/26 [==============================] - 3s 113ms/step - loss: 0.5057 - accuracy: 0.7747\n",
      "Epoch 13/50\n",
      "26/26 [==============================] - 3s 107ms/step - loss: 0.5498 - accuracy: 0.7708\n",
      "Epoch 14/50\n",
      "26/26 [==============================] - 3s 127ms/step - loss: 0.4502 - accuracy: 0.8182\n",
      "Epoch 15/50\n",
      "26/26 [==============================] - 3s 130ms/step - loss: 0.5133 - accuracy: 0.7787\n",
      "Epoch 16/50\n",
      "26/26 [==============================] - 3s 110ms/step - loss: 0.4317 - accuracy: 0.8182\n",
      "Epoch 17/50\n",
      "26/26 [==============================] - 3s 113ms/step - loss: 0.4133 - accuracy: 0.8419\n",
      "Epoch 18/50\n",
      "26/26 [==============================] - 3s 119ms/step - loss: 0.4283 - accuracy: 0.7905\n",
      "Epoch 19/50\n",
      "26/26 [==============================] - 3s 106ms/step - loss: 0.4008 - accuracy: 0.8498\n",
      "Epoch 20/50\n",
      "26/26 [==============================] - 3s 108ms/step - loss: 0.3241 - accuracy: 0.8893\n",
      "Epoch 21/50\n",
      "26/26 [==============================] - 3s 106ms/step - loss: 0.4357 - accuracy: 0.8182\n",
      "Epoch 22/50\n",
      "26/26 [==============================] - 3s 109ms/step - loss: 0.3680 - accuracy: 0.8379\n",
      "Epoch 23/50\n",
      "26/26 [==============================] - 3s 105ms/step - loss: 0.2879 - accuracy: 0.8775\n",
      "Epoch 24/50\n",
      "26/26 [==============================] - 3s 109ms/step - loss: 0.3442 - accuracy: 0.8379\n",
      "Epoch 25/50\n",
      "26/26 [==============================] - 3s 109ms/step - loss: 0.2780 - accuracy: 0.8933\n",
      "Epoch 26/50\n",
      "26/26 [==============================] - 3s 105ms/step - loss: 0.3301 - accuracy: 0.8458\n",
      "Epoch 27/50\n",
      "26/26 [==============================] - 3s 108ms/step - loss: 0.3362 - accuracy: 0.8538\n",
      "Epoch 28/50\n",
      "26/26 [==============================] - 3s 109ms/step - loss: 0.3199 - accuracy: 0.8854\n",
      "Epoch 29/50\n",
      "26/26 [==============================] - 3s 109ms/step - loss: 0.3057 - accuracy: 0.9051\n",
      "Epoch 30/50\n",
      "26/26 [==============================] - 3s 105ms/step - loss: 0.3154 - accuracy: 0.8696\n",
      "Epoch 31/50\n",
      "26/26 [==============================] - 3s 107ms/step - loss: 0.2576 - accuracy: 0.8893\n",
      "Epoch 32/50\n",
      "26/26 [==============================] - 3s 105ms/step - loss: 0.2870 - accuracy: 0.8735\n",
      "Epoch 33/50\n",
      "26/26 [==============================] - 3s 109ms/step - loss: 0.2197 - accuracy: 0.9249\n",
      "Epoch 34/50\n",
      "26/26 [==============================] - 3s 104ms/step - loss: 0.2415 - accuracy: 0.8933\n",
      "Epoch 35/50\n",
      "26/26 [==============================] - 3s 115ms/step - loss: 0.2381 - accuracy: 0.8893\n",
      "Epoch 36/50\n",
      "26/26 [==============================] - 3s 119ms/step - loss: 0.2341 - accuracy: 0.9170\n",
      "Epoch 37/50\n",
      "26/26 [==============================] - 3s 103ms/step - loss: 0.2189 - accuracy: 0.9209\n",
      "Epoch 38/50\n",
      "26/26 [==============================] - 3s 109ms/step - loss: 0.2787 - accuracy: 0.8814\n",
      "Epoch 39/50\n",
      "26/26 [==============================] - 3s 103ms/step - loss: 0.2167 - accuracy: 0.9209\n",
      "Epoch 40/50\n",
      "26/26 [==============================] - 3s 108ms/step - loss: 0.1850 - accuracy: 0.9328\n",
      "Epoch 41/50\n",
      "26/26 [==============================] - 3s 108ms/step - loss: 0.2219 - accuracy: 0.9209\n",
      "Epoch 42/50\n",
      "26/26 [==============================] - 3s 108ms/step - loss: 0.1584 - accuracy: 0.9368\n",
      "Epoch 43/50\n",
      "26/26 [==============================] - 3s 107ms/step - loss: 0.1959 - accuracy: 0.9249\n",
      "Epoch 44/50\n",
      "26/26 [==============================] - 3s 113ms/step - loss: 0.1711 - accuracy: 0.9289\n",
      "Epoch 45/50\n",
      "26/26 [==============================] - 3s 113ms/step - loss: 0.1535 - accuracy: 0.9368\n",
      "Epoch 46/50\n",
      "26/26 [==============================] - 3s 107ms/step - loss: 0.1616 - accuracy: 0.9328\n",
      "Epoch 47/50\n",
      "26/26 [==============================] - 3s 117ms/step - loss: 0.1810 - accuracy: 0.9289\n",
      "Epoch 48/50\n",
      "26/26 [==============================] - 3s 116ms/step - loss: 0.1496 - accuracy: 0.9447\n",
      "Epoch 49/50\n",
      "26/26 [==============================] - 3s 112ms/step - loss: 0.2137 - accuracy: 0.9209\n",
      "Epoch 50/50\n",
      "26/26 [==============================] - 3s 109ms/step - loss: 0.2551 - accuracy: 0.8893\n"
     ]
    },
    {
     "data": {
      "text/plain": [
       "<tensorflow.python.keras.callbacks.History at 0x1f98dd8aec8>"
      ]
     },
     "execution_count": 15,
     "metadata": {},
     "output_type": "execute_result"
    }
   ],
   "source": [
    "cnn.fit(x =train_generator, epochs=50)"
   ]
  },
  {
   "cell_type": "code",
   "execution_count": 16,
   "metadata": {},
   "outputs": [],
   "source": [
    "from keras.preprocessing import image\n",
    "import numpy as np"
   ]
  },
  {
   "cell_type": "code",
   "execution_count": 17,
   "metadata": {},
   "outputs": [],
   "source": [
    "test_image = image.load_img(\"C:\\\\Users\\\\91820\\\\Desktop\\\\image.jpeg\", target_size =(64,64))\n",
    "test_image = image.img_to_array(test_image)\n",
    "test_image = np.expand_dims(test_image, axis=0)\n",
    "result = cnn.predict(test_image)\n",
    "    "
   ]
  },
  {
   "cell_type": "code",
   "execution_count": 18,
   "metadata": {},
   "outputs": [
    {
     "data": {
      "text/plain": [
       "array([[0.]], dtype=float32)"
      ]
     },
     "execution_count": 18,
     "metadata": {},
     "output_type": "execute_result"
    }
   ],
   "source": [
    "result"
   ]
  },
  {
   "cell_type": "code",
   "execution_count": 19,
   "metadata": {},
   "outputs": [
    {
     "data": {
      "text/plain": [
       "{'no': 0, 'yes': 1}"
      ]
     },
     "execution_count": 19,
     "metadata": {},
     "output_type": "execute_result"
    }
   ],
   "source": [
    "train_generator.class_indices"
   ]
  },
  {
   "cell_type": "code",
   "execution_count": 22,
   "metadata": {},
   "outputs": [
    {
     "name": "stdout",
     "output_type": "stream",
     "text": [
      "Brain Tumor not detected\n"
     ]
    }
   ],
   "source": [
    "if result[0][0] == 0:\n",
    "    print(\"Brain Tumor not detected\")\n",
    "else:\n",
    "    print(\"Brain Tumor detected!!\")"
   ]
  },
  {
   "cell_type": "code",
   "execution_count": null,
   "metadata": {},
   "outputs": [],
   "source": []
  }
 ],
 "metadata": {
  "kernelspec": {
   "display_name": "Python 3",
   "language": "python",
   "name": "python3"
  },
  "language_info": {
   "codemirror_mode": {
    "name": "ipython",
    "version": 3
   },
   "file_extension": ".py",
   "mimetype": "text/x-python",
   "name": "python",
   "nbconvert_exporter": "python",
   "pygments_lexer": "ipython3",
   "version": "3.7.7"
  }
 },
 "nbformat": 4,
 "nbformat_minor": 4
}
